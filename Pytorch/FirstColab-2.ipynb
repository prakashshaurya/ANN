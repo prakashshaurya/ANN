{
 "cells": [
  {
   "cell_type": "code",
   "execution_count": 27,
   "id": "166eba6a",
   "metadata": {},
   "outputs": [
    {
     "name": "stdout",
     "output_type": "stream",
     "text": [
      "torch.Size([3, 28, 28])\n"
     ]
    }
   ],
   "source": [
    "import torch\n",
    "from torch import nn\n",
    "\n",
    "input_image = torch.randn(3,28,28)\n",
    "print(input_image.size())"
   ]
  },
  {
   "cell_type": "code",
   "execution_count": 28,
   "id": "8d29ff49",
   "metadata": {},
   "outputs": [
    {
     "name": "stdout",
     "output_type": "stream",
     "text": [
      "torch.Size([3, 784])\n"
     ]
    }
   ],
   "source": [
    "flatten = nn.Flatten()\n",
    "flatten_images = flatten(input_image)\n",
    "print(flatten_images.shape)"
   ]
  },
  {
   "cell_type": "code",
   "execution_count": 29,
   "id": "30739434",
   "metadata": {},
   "outputs": [],
   "source": [
    "linear_layer = nn.Linear(in_features=784,out_features=20)\n",
    "hidden = linear_layer(flatten(input_image))"
   ]
  },
  {
   "cell_type": "code",
   "execution_count": 30,
   "id": "c64efcae",
   "metadata": {},
   "outputs": [
    {
     "data": {
      "text/plain": [
       "torch.Size([3, 20])"
      ]
     },
     "execution_count": 30,
     "metadata": {},
     "output_type": "execute_result"
    }
   ],
   "source": [
    "hidden.shape"
   ]
  },
  {
   "cell_type": "code",
   "execution_count": 31,
   "id": "834458ac",
   "metadata": {},
   "outputs": [
    {
     "name": "stdout",
     "output_type": "stream",
     "text": [
      "before relu tensor([[ 0.0344, -0.0027,  0.1650,  0.7499,  0.6394, -0.3440, -1.2145, -0.0230,\n",
      "         -0.2430,  1.1402, -0.0422, -1.3322, -0.1109, -0.2023, -0.7324,  1.4922,\n",
      "          0.2191,  0.4106, -0.5353, -0.2436],\n",
      "        [ 0.6614,  0.0922,  0.1083, -0.4129,  0.0536,  0.4759, -0.9396,  1.3956,\n",
      "          0.0587, -0.4905, -0.4375, -1.0313,  0.2157, -0.6748,  0.4902, -0.6462,\n",
      "         -0.2677, -0.1180, -0.7570, -0.3583],\n",
      "        [ 1.4588,  0.1670,  1.0226, -0.8024,  0.1367, -0.1842, -0.6015, -0.7399,\n",
      "          0.1047, -0.1270, -0.1690,  0.2373, -0.5853,  0.5884, -0.2466, -1.3922,\n",
      "         -0.1664, -0.7513,  0.2993,  0.3059]], grad_fn=<AddmmBackward0>)\n",
      "after relu tensor([[0.0344, 0.0000, 0.1650, 0.7499, 0.6394, 0.0000, 0.0000, 0.0000, 0.0000,\n",
      "         1.1402, 0.0000, 0.0000, 0.0000, 0.0000, 0.0000, 1.4922, 0.2191, 0.4106,\n",
      "         0.0000, 0.0000],\n",
      "        [0.6614, 0.0922, 0.1083, 0.0000, 0.0536, 0.4759, 0.0000, 1.3956, 0.0587,\n",
      "         0.0000, 0.0000, 0.0000, 0.2157, 0.0000, 0.4902, 0.0000, 0.0000, 0.0000,\n",
      "         0.0000, 0.0000],\n",
      "        [1.4588, 0.1670, 1.0226, 0.0000, 0.1367, 0.0000, 0.0000, 0.0000, 0.1047,\n",
      "         0.0000, 0.0000, 0.2373, 0.0000, 0.5884, 0.0000, 0.0000, 0.0000, 0.0000,\n",
      "         0.2993, 0.3059]], grad_fn=<ReluBackward0>)\n"
     ]
    }
   ],
   "source": [
    "print(\"before relu\" , hidden)\n",
    "hidden = nn.ReLU()(hidden)\n",
    "print(\"after relu\" , hidden)"
   ]
  },
  {
   "cell_type": "code",
   "execution_count": 32,
   "id": "7b00a969",
   "metadata": {},
   "outputs": [],
   "source": [
    "model = nn.Sequential(\n",
    "flatten,\n",
    "linear_layer,\n",
    "nn.ReLU(),\n",
    "nn.Linear(20,10)\n",
    ")"
   ]
  },
  {
   "cell_type": "code",
   "execution_count": 33,
   "id": "3f43b158",
   "metadata": {},
   "outputs": [
    {
     "data": {
      "text/plain": [
       "tensor([[ 0.1924, -0.2034, -0.2043,  0.1348, -0.2889,  0.3227, -0.3957,  0.3722,\n",
       "          0.1553, -0.2983],\n",
       "        [-0.1005, -0.0511, -0.0953,  0.4526, -0.1529,  0.3245,  0.2553, -0.2913,\n",
       "          0.2069, -0.1814],\n",
       "        [ 0.1286,  0.0450, -0.1974,  0.3718, -0.1227, -0.0397,  0.0252, -0.0997,\n",
       "         -0.1796,  0.1589]], grad_fn=<AddmmBackward0>)"
      ]
     },
     "execution_count": 33,
     "metadata": {},
     "output_type": "execute_result"
    }
   ],
   "source": [
    "logits = model(input_image)\n",
    "logits"
   ]
  },
  {
   "cell_type": "code",
   "execution_count": 34,
   "id": "18169069",
   "metadata": {},
   "outputs": [],
   "source": [
    "softmax= nn.Softmax(1)\n",
    "pred = softmax(logits) "
   ]
  },
  {
   "cell_type": "code",
   "execution_count": 35,
   "id": "8e69b0e1",
   "metadata": {},
   "outputs": [],
   "source": [
    "y = pred.argmax(1)"
   ]
  },
  {
   "cell_type": "code",
   "execution_count": 36,
   "id": "7a7da4e0",
   "metadata": {},
   "outputs": [
    {
     "data": {
      "text/plain": [
       "tensor([7, 3, 3])"
      ]
     },
     "execution_count": 36,
     "metadata": {},
     "output_type": "execute_result"
    }
   ],
   "source": [
    "y"
   ]
  },
  {
   "cell_type": "code",
   "execution_count": null,
   "id": "231dc694",
   "metadata": {},
   "outputs": [],
   "source": []
  }
 ],
 "metadata": {
  "kernelspec": {
   "display_name": "Python 3 (ipykernel)",
   "language": "python",
   "name": "python3"
  },
  "language_info": {
   "codemirror_mode": {
    "name": "ipython",
    "version": 3
   },
   "file_extension": ".py",
   "mimetype": "text/x-python",
   "name": "python",
   "nbconvert_exporter": "python",
   "pygments_lexer": "ipython3",
   "version": "3.9.13"
  }
 },
 "nbformat": 4,
 "nbformat_minor": 5
}
