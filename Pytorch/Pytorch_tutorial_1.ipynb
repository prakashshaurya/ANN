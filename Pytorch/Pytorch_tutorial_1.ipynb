{
 "cells": [
  {
   "cell_type": "code",
   "execution_count": 6,
   "id": "d2000a5e",
   "metadata": {},
   "outputs": [
    {
     "name": "stdout",
     "output_type": "stream",
     "text": [
      "Result: y = -0.013763847760856152 + 0.8468469381332397 x + 0.00237449211999774 x^2 + -0.0919230654835701 x^3\n"
     ]
    }
   ],
   "source": [
    "import torch\n",
    "import math\n",
    "\n",
    "learning_rate = 1e-6\n",
    "x = torch.linspace(-math.pi,math.pi,2000)\n",
    "y = torch.sin(x)\n",
    "\n",
    "\n",
    "tensor = torch.tensor([1,2,3]) # a,b,c = w1,w2,w3\n",
    "xx = x.unsqueeze(-1).pow(tensor)\n",
    "\n",
    "\"\"\"\n",
    "\n",
    "CLASS torch.nn.Linear(in_features, out_features, bias=True)\n",
    "\n",
    "Applies a linear transformation to the incoming data: y = x*W^T + b\n",
    "\n",
    "Parameters:\n",
    "\n",
    "    in_features – size of each input sample (i.e. size of x)\n",
    "    out_features – size of each output sample (i.e. size of y)\n",
    "    bias – If set to False, the layer will not learn an additive bias. Default: True\n",
    "\n",
    "\"\"\"\n",
    "     \n",
    "model = torch.nn.Sequential(\n",
    "        torch.nn.Linear(3,1),\n",
    "        torch.nn.Flatten(0,1)\n",
    "     \n",
    ")\n",
    "\n",
    "lossfn = torch.nn.MSELoss(reduction='sum')\n",
    "\n",
    "for t in range(2000) :\n",
    "    y_pred = model(xx)\n",
    "    \n",
    "    loss   = lossfn(y_pred,y)\n",
    "    \n",
    "    model.zero_grad()\n",
    "    \n",
    "    loss.backward()\n",
    "    \n",
    "    with torch.no_grad() : \n",
    "        for param in model.parameters() :\n",
    "            param -= learning_rate*param.grad\n",
    "            \n",
    "linear_layer = model[0]\n",
    "# For linear layer, its parameters are stored as `weight` and `bias`.\n",
    "print(f'Result: y = {linear_layer.bias.item()} + {linear_layer.weight[:, 0].item()} x + {linear_layer.weight[:, 1].item()} x^2 + {linear_layer.weight[:, 2].item()} x^3')"
   ]
  },
  {
   "cell_type": "code",
   "execution_count": 7,
   "id": "62aebde7",
   "metadata": {},
   "outputs": [
    {
     "data": {
      "text/plain": [
       "Linear(in_features=3, out_features=1, bias=True)"
      ]
     },
     "execution_count": 7,
     "metadata": {},
     "output_type": "execute_result"
    }
   ],
   "source": [
    "linear_layer"
   ]
  },
  {
   "cell_type": "code",
   "execution_count": 8,
   "id": "91e1acb1",
   "metadata": {},
   "outputs": [
    {
     "data": {
      "text/plain": [
       "Parameter containing:\n",
       "tensor([[ 0.8468,  0.0024, -0.0919]], requires_grad=True)"
      ]
     },
     "execution_count": 8,
     "metadata": {},
     "output_type": "execute_result"
    }
   ],
   "source": [
    "linear_layer.weight"
   ]
  },
  {
   "cell_type": "code",
   "execution_count": 9,
   "id": "9d896763",
   "metadata": {},
   "outputs": [
    {
     "data": {
      "text/plain": [
       "Parameter containing:\n",
       "tensor([-0.0138], requires_grad=True)"
      ]
     },
     "execution_count": 9,
     "metadata": {},
     "output_type": "execute_result"
    }
   ],
   "source": [
    "linear_layer.bias"
   ]
  },
  {
   "cell_type": "code",
   "execution_count": null,
   "id": "d7935734",
   "metadata": {},
   "outputs": [],
   "source": []
  }
 ],
 "metadata": {
  "kernelspec": {
   "display_name": "Python 3 (ipykernel)",
   "language": "python",
   "name": "python3"
  },
  "language_info": {
   "codemirror_mode": {
    "name": "ipython",
    "version": 3
   },
   "file_extension": ".py",
   "mimetype": "text/x-python",
   "name": "python",
   "nbconvert_exporter": "python",
   "pygments_lexer": "ipython3",
   "version": "3.9.13"
  }
 },
 "nbformat": 4,
 "nbformat_minor": 5
}
