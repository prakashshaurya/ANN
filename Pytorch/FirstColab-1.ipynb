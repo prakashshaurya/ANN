{
 "cells": [
  {
   "cell_type": "markdown",
   "id": "627d0ead",
   "metadata": {},
   "source": [
    "# define   a neural network like this :\n",
    "\n",
    "--NeuralNetwork(<br /> \n",
    "  (flatten): Flatten(start_dim=1, end_dim=-1)<br /> \n",
    "  (linear_relu_stack): Sequential(<br /> \n",
    "    (0): Linear(in_features=784, out_features=512, bias=True)<br /> \n",
    "    (1): ReLU()<br /> \n",
    "    (2): Linear(in_features=512, out_features=512, bias=True)<br /> \n",
    "    (3): ReLU()<br /> \n",
    "    (4): Linear(in_features=512, out_features=10, bias=True)<br /> \n",
    "  )<br /> \n",
    ")<br /> "
   ]
  },
  {
   "cell_type": "code",
   "execution_count": 10,
   "id": "e72d82db",
   "metadata": {},
   "outputs": [
    {
     "name": "stdout",
     "output_type": "stream",
     "text": [
      "NeuralNetwork(\n",
      "  (flatten): Flatten(start_dim=1, end_dim=-1)\n",
      "  (linear_relu_stack): Sequential(\n",
      "    (0): Linear(in_features=784, out_features=512, bias=True)\n",
      "    (1): ReLU()\n",
      "    (2): Linear(in_features=512, out_features=512, bias=True)\n",
      "    (3): ReLU()\n",
      "    (4): Linear(in_features=512, out_features=10, bias=True)\n",
      "  )\n",
      ")\n"
     ]
    }
   ],
   "source": [
    "import torch\n",
    "from torch import nn\n",
    "\n",
    "class NeuralNetwork(nn.Module) :\n",
    "    def __init__(self):\n",
    "        super(NeuralNetwork , self).__init__() \n",
    "        self.flatten = nn.Flatten()\n",
    "        self.linear_relu_stack = nn.Sequential(\n",
    "        nn.Linear(28*28,512),\n",
    "        nn.ReLU(),\n",
    "        nn.Linear(512,512),\n",
    "        nn.ReLU(),\n",
    "        nn.Linear(512,10)\n",
    "        \n",
    "    )\n",
    "    \n",
    "    def forward(self,x):\n",
    "        x = self.flatten(x)\n",
    "        logits = self.linear_relu_stack(x)\n",
    "        return logits\n",
    "model = NeuralNetwork().to(\"cpu\")\n",
    "print(model)\n"
   ]
  },
  {
   "cell_type": "code",
   "execution_count": 15,
   "id": "d3e15539",
   "metadata": {},
   "outputs": [],
   "source": [
    "ImageData = torch.rand((1,28,28),device=\"cpu\")"
   ]
  },
  {
   "cell_type": "code",
   "execution_count": 18,
   "id": "1031888a",
   "metadata": {},
   "outputs": [
    {
     "data": {
      "text/plain": [
       "tensor([[-0.0302,  0.0672, -0.0091,  0.0550,  0.0405, -0.0759, -0.1165,  0.1298,\n",
       "          0.0066, -0.0633]], grad_fn=<AddmmBackward0>)"
      ]
     },
     "execution_count": 18,
     "metadata": {},
     "output_type": "execute_result"
    }
   ],
   "source": [
    "logits= model(ImageData)\n",
    "logits"
   ]
  },
  {
   "cell_type": "code",
   "execution_count": 21,
   "id": "88d41c95",
   "metadata": {},
   "outputs": [
    {
     "data": {
      "text/plain": [
       "tensor([[0.0967, 0.1066, 0.0988, 0.1053, 0.1038, 0.0924, 0.0887, 0.1135, 0.1004,\n",
       "         0.0936]], grad_fn=<SoftmaxBackward0>)"
      ]
     },
     "execution_count": 21,
     "metadata": {},
     "output_type": "execute_result"
    }
   ],
   "source": [
    "pred_prob = nn.Softmax(dim=1)(logits)\n",
    "pred_prob"
   ]
  },
  {
   "cell_type": "code",
   "execution_count": 24,
   "id": "b5307a84",
   "metadata": {},
   "outputs": [
    {
     "data": {
      "text/plain": [
       "tensor([7])"
      ]
     },
     "execution_count": 24,
     "metadata": {},
     "output_type": "execute_result"
    }
   ],
   "source": [
    "y = pred_prob.argmax(1)\n",
    "y"
   ]
  },
  {
   "cell_type": "code",
   "execution_count": 26,
   "id": "9b330eab",
   "metadata": {},
   "outputs": [
    {
     "name": "stdout",
     "output_type": "stream",
     "text": [
      "Predicted class: tensor([7])\n"
     ]
    }
   ],
   "source": [
    "print(f\"Predicted class: {y}\")"
   ]
  },
  {
   "cell_type": "code",
   "execution_count": 28,
   "id": "67d44fae",
   "metadata": {},
   "outputs": [],
   "source": [
    "input_image = torch.randn(3,28,28)"
   ]
  },
  {
   "cell_type": "code",
   "execution_count": 29,
   "id": "2f22ed0c",
   "metadata": {},
   "outputs": [
    {
     "data": {
      "text/plain": [
       "torch.Size([3, 28, 28])"
      ]
     },
     "execution_count": 29,
     "metadata": {},
     "output_type": "execute_result"
    }
   ],
   "source": [
    "input_image.shape"
   ]
  },
  {
   "cell_type": "code",
   "execution_count": null,
   "id": "1c4b0ec8",
   "metadata": {},
   "outputs": [],
   "source": []
  }
 ],
 "metadata": {
  "kernelspec": {
   "display_name": "Python 3 (ipykernel)",
   "language": "python",
   "name": "python3"
  },
  "language_info": {
   "codemirror_mode": {
    "name": "ipython",
    "version": 3
   },
   "file_extension": ".py",
   "mimetype": "text/x-python",
   "name": "python",
   "nbconvert_exporter": "python",
   "pygments_lexer": "ipython3",
   "version": "3.9.13"
  }
 },
 "nbformat": 4,
 "nbformat_minor": 5
}
