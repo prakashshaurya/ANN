{
 "cells": [
  {
   "cell_type": "code",
   "execution_count": 8,
   "id": "af2aab5d",
   "metadata": {},
   "outputs": [
    {
     "data": {
      "text/plain": [
       "[[1045, 2293, 2026, 2406],\n",
       " [1045, 2215, 2000, 2288, 2080, 7733, 2004, 2574, 2004, 2825]]"
      ]
     },
     "execution_count": 8,
     "metadata": {},
     "output_type": "execute_result"
    }
   ],
   "source": [
    "import transformers\n",
    "from transformers import AutoTokenizer\n",
    "import torch\n",
    "tokenizer = AutoTokenizer.from_pretrained(\"distilbert-base-uncased-finetuned-sst-2-english\")\n",
    "sentences = [\"I love my country\" , \"I want to goto Mars as soon as possible\"]\n",
    "\n",
    "tokens = [tokenizer.tokenize(sentence) for sentence in sentences]\n",
    "ids =    [tokenizer.convert_tokens_to_ids(i) for i in tokens]  \n",
    "ids"
   ]
  },
  {
   "cell_type": "code",
   "execution_count": 9,
   "id": "744b1a77",
   "metadata": {},
   "outputs": [
    {
     "ename": "ValueError",
     "evalue": "expected sequence of length 4 at dim 1 (got 10)",
     "output_type": "error",
     "traceback": [
      "\u001b[1;31m---------------------------------------------------------------------------\u001b[0m",
      "\u001b[1;31mValueError\u001b[0m                                Traceback (most recent call last)",
      "\u001b[1;32m~\\AppData\\Local\\Temp\\ipykernel_16812\\2617872051.py\u001b[0m in \u001b[0;36m<module>\u001b[1;34m\u001b[0m\n\u001b[1;32m----> 1\u001b[1;33m \u001b[0mtorch\u001b[0m\u001b[1;33m.\u001b[0m\u001b[0mtensor\u001b[0m\u001b[1;33m(\u001b[0m\u001b[0mids\u001b[0m\u001b[1;33m)\u001b[0m\u001b[1;33m\u001b[0m\u001b[1;33m\u001b[0m\u001b[0m\n\u001b[0m",
      "\u001b[1;31mValueError\u001b[0m: expected sequence of length 4 at dim 1 (got 10)"
     ]
    }
   ],
   "source": [
    "torch.tensor(ids) #error"
   ]
  },
  {
   "cell_type": "code",
   "execution_count": 12,
   "id": "89dd75e9",
   "metadata": {},
   "outputs": [
    {
     "data": {
      "text/plain": [
       "[[1045, 2293, 2026, 2406],\n",
       " [1045, 2215, 2000, 2288, 2080, 7733, 2004, 2574, 2004, 2825]]"
      ]
     },
     "execution_count": 12,
     "metadata": {},
     "output_type": "execute_result"
    }
   ],
   "source": [
    "import transformers\n",
    "from transformers import AutoTokenizer\n",
    "import torch\n",
    "tokenizer = AutoTokenizer.from_pretrained(\"distilbert-base-uncased-finetuned-sst-2-english\")\n",
    "tokenizer.pad_token_id\n",
    "sentences = [\"I love my country\" , \"I want to goto Mars as soon as possible\"]\n",
    "tokens = [tokenizer.tokenize(sentence) for sentence in sentences]\n",
    "ids =    [tokenizer.convert_tokens_to_ids(i) for i in tokens]  \n",
    "ids"
   ]
  },
  {
   "cell_type": "code",
   "execution_count": null,
   "id": "bdab48b9",
   "metadata": {},
   "outputs": [],
   "source": []
  },
  {
   "cell_type": "code",
   "execution_count": null,
   "id": "cb23d482",
   "metadata": {},
   "outputs": [],
   "source": []
  }
 ],
 "metadata": {
  "kernelspec": {
   "display_name": "Python 3 (ipykernel)",
   "language": "python",
   "name": "python3"
  },
  "language_info": {
   "codemirror_mode": {
    "name": "ipython",
    "version": 3
   },
   "file_extension": ".py",
   "mimetype": "text/x-python",
   "name": "python",
   "nbconvert_exporter": "python",
   "pygments_lexer": "ipython3",
   "version": "3.9.13"
  }
 },
 "nbformat": 4,
 "nbformat_minor": 5
}
