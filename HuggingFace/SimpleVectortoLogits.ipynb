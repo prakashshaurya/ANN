{
 "cells": [
  {
   "cell_type": "code",
   "execution_count": 3,
   "id": "6c4ec01c",
   "metadata": {},
   "outputs": [
    {
     "data": {
      "text/plain": [
       "torch.Size([1, 784])"
      ]
     },
     "execution_count": 3,
     "metadata": {},
     "output_type": "execute_result"
    }
   ],
   "source": [
    "import torch\n",
    "import math\n",
    "from torch import nn\n",
    "\n",
    "X = torch.randn(1,28,28)\n",
    "\n",
    "flatten = nn.Flatten()\n",
    "flat_image =flatten(X)\n",
    "flat_image.size()"
   ]
  },
  {
   "cell_type": "code",
   "execution_count": 6,
   "id": "6a7b1430",
   "metadata": {},
   "outputs": [
    {
     "data": {
      "text/plain": [
       "Linear(in_features=784, out_features=512, bias=True)"
      ]
     },
     "execution_count": 6,
     "metadata": {},
     "output_type": "execute_result"
    }
   ],
   "source": [
    "linear_layer = nn.Linear(28*28 ,512)\n",
    "linear_layer"
   ]
  },
  {
   "cell_type": "code",
   "execution_count": 12,
   "id": "2bb90872",
   "metadata": {},
   "outputs": [],
   "source": [
    "model = nn.Sequential(\n",
    "linear_layer,\n",
    "nn.ReLU(),\n",
    "nn.Linear(512,10)\n",
    ")"
   ]
  },
  {
   "cell_type": "code",
   "execution_count": 13,
   "id": "776a7b36",
   "metadata": {},
   "outputs": [
    {
     "data": {
      "text/plain": [
       "tensor([[ 0.2338, -0.0505, -0.0305, -0.1888,  0.1274, -0.2353, -0.0094,  0.2985,\n",
       "          0.0162,  0.2884]], grad_fn=<AddmmBackward0>)"
      ]
     },
     "execution_count": 13,
     "metadata": {},
     "output_type": "execute_result"
    }
   ],
   "source": [
    "preds = model(flat_image)\n",
    "preds"
   ]
  },
  {
   "cell_type": "code",
   "execution_count": 15,
   "id": "2f3e5d70",
   "metadata": {},
   "outputs": [
    {
     "data": {
      "text/plain": [
       "7"
      ]
     },
     "execution_count": 15,
     "metadata": {},
     "output_type": "execute_result"
    }
   ],
   "source": [
    "softmax = nn.Softmax(1)(preds)\n",
    "category = softmax.argmax(1)\n",
    "category.item()"
   ]
  },
  {
   "cell_type": "code",
   "execution_count": 17,
   "id": "9fbb6bee",
   "metadata": {},
   "outputs": [
    {
     "data": {
      "text/plain": [
       "tensor([1.3757])"
      ]
     },
     "execution_count": 17,
     "metadata": {},
     "output_type": "execute_result"
    }
   ],
   "source": [
    "x= torch.tensor([1,2,3,4,5])\n",
    "y= torch.tensor([2,3,4,5,6])\n",
    "\n",
    "w= torch.randn([1])\n",
    "w"
   ]
  },
  {
   "cell_type": "code",
   "execution_count": null,
   "id": "bc14caff",
   "metadata": {},
   "outputs": [],
   "source": []
  },
  {
   "cell_type": "code",
   "execution_count": null,
   "id": "b8a7cf76",
   "metadata": {},
   "outputs": [],
   "source": []
  },
  {
   "cell_type": "code",
   "execution_count": null,
   "id": "9731d51a",
   "metadata": {},
   "outputs": [],
   "source": []
  }
 ],
 "metadata": {
  "kernelspec": {
   "display_name": "Python 3 (ipykernel)",
   "language": "python",
   "name": "python3"
  },
  "language_info": {
   "codemirror_mode": {
    "name": "ipython",
    "version": 3
   },
   "file_extension": ".py",
   "mimetype": "text/x-python",
   "name": "python",
   "nbconvert_exporter": "python",
   "pygments_lexer": "ipython3",
   "version": "3.9.13"
  }
 },
 "nbformat": 4,
 "nbformat_minor": 5
}
